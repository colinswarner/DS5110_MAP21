{
 "cells": [
  {
   "cell_type": "code",
   "execution_count": 1,
   "metadata": {},
   "outputs": [],
   "source": [
    "import os\n",
    "import geopandas as gpd\n",
    "import pandas as pd\n",
    "import folium\n",
    "import numpy as np\n",
    "\n",
    "import ipywidgets as widgets\n",
    "from IPython.display import display, clear_output, Markdown"
   ]
  },
  {
   "cell_type": "code",
   "execution_count": 2,
   "metadata": {},
   "outputs": [],
   "source": [
    "class Mapper:\n",
    "    def __init__(self, shp=None, data=None, maps={}, years=None, periods=None, variables=None):\n",
    "        self.shp = shp\n",
    "        self.data = data\n",
    "        self.maps = maps\n",
    "        self.years = years\n",
    "        self.periods = periods\n",
    "        self.variables = variables\n",
    "\n",
    "    def getGDF(self):\n",
    "        print(os.getcwd())\n",
    "        shp = gpd.read_file(\"C:/Users/cschr/Documents/GitHub/DS5110_MAP21/Data/Virginia2020/Virginia.shp\")\n",
    "        data = pd.read_csv(\"C:/Users/cschr/Documents/GitHub/DS5110_MAP21/Data/Final_Data/trainableData.csv\") \n",
    "        gdf = gpd.GeoDataFrame(data.merge(shp[['Tmc', 'TmcType', 'RoadNumber', 'IsPrimary', 'geometry']], left_on=['TMC'], right_on=['Tmc'], how='left')).set_crs(\"EPSG:4326\")\n",
    "        return gdf\n",
    "\n",
    "    def coords(self, geom):\n",
    "        return [(point[1],point[0]) for point in geom.coords]\n",
    "\n",
    "    def quickMap(SELF, gdf, col):\n",
    "        if pd.api.types.is_numeric_dtype(gdf[col]):\n",
    "            vmin = gdf[col].quantile(.1)\n",
    "            vmax = gdf[col].quantile(.9)\n",
    "            return gdf.explore(col, tiles='cartoDB positron', cmap='Reds', vmin=0, vmax=vmax)\n",
    "        else:\n",
    "            return gdf.explore(col, tiles='cartoDB positron', cmap='bwr')\n",
    "\n",
    "    def makePeriodByYearMap(self, period, year):\n",
    "        gdf = self.getGDF()\n",
    "        gdf['points'] = gdf.apply(lambda row: self.coords(row.geometry), axis=1)\n",
    "        periodGDF = gdf.loc[gdf.PERIOD == period]\n",
    "        obsmap = self.quickMap(periodGDF.loc[periodGDF.YEAR==year].drop('points', axis=1), 'obs rel_unrel')\n",
    "        return obsmap\n",
    "    \n",
    "    ### ADDITIONS ###\n",
    "    \n",
    "    def createMapViews(self, gdf, _variables):\n",
    "        display(Markdown(f\"### Creating Map Views\"))\n",
    "        self.years = gdf.YEAR.unique()\n",
    "        print(f\"Possible Years: {self.years}\")\n",
    "        self.periods = gdf.PERIOD.unique()\n",
    "        print(f\"Possible Periods: {self.periods}\")\n",
    "        self.variables = _variables\n",
    "        print(f\"Possible Variables: {self.variables}\")\n",
    "        print(f\"Creating Views:\")\n",
    "        for year in self.years:\n",
    "            self.maps[year] = {}\n",
    "            for period in self.periods:\n",
    "                self.maps[year][period] = {}\n",
    "                for variable in self.variables:\n",
    "                    try:\n",
    "                        temp_df = gdf.loc[(gdf.YEAR == year) & (gdf.PERIOD == period)][['TMC',variable,'geometry']]\n",
    "                        self.maps[year][period][variable] = mapper.quickMap(temp_df, variable)\n",
    "                        print(f\"- Created: {year}, {period}, {variable}\")\n",
    "                    except:\n",
    "                        print(f\"- Failed: {year}, {period}, {variable}\")\n",
    "                        \n",
    "    def addMapViews(self, gdf, variables):\n",
    "        for variable in variables:\n",
    "            self.variables.append(variable)\n",
    "        display(Markdown(f\"### Adding Map Views\"))\n",
    "        print(f\"Additional Variables: {variables}\")\n",
    "        print(f\"Creating Views:\")\n",
    "        for year in self.years:\n",
    "            for period in self.periods:\n",
    "                for variable in variables:\n",
    "                    try:\n",
    "                        temp_df = gdf.loc[(gdf.YEAR == year) & (gdf.PERIOD == period)][['TMC',variable,'geometry']]\n",
    "                        self.maps[year][period][variable] = mapper.quickMap(temp_df, variable)\n",
    "                        print(f\"- Created: {year}, {period}, {variable}\")\n",
    "                    except:\n",
    "                        print(f\"- Failed: {year}, {period}, {variable}\")\n",
    "                        \n",
    "    def viewMaps(self):\n",
    "        @widgets.interact(year=self.years, period=self.periods, variable=self.variables)\n",
    "        def changeMap(year, period, variable):\n",
    "            return mapper.maps[year][period][variable]"
   ]
  },
  {
   "cell_type": "code",
   "execution_count": 3,
   "metadata": {
    "tags": []
   },
   "outputs": [
    {
     "name": "stdout",
     "output_type": "stream",
     "text": [
      "C:\\Users\\cschr\\Documents\\GitHub\\DS5110_MAP21\\Code\n"
     ]
    },
    {
     "data": {
      "text/markdown": [
       "### Creating Map Views"
      ],
      "text/plain": [
       "<IPython.core.display.Markdown object>"
      ]
     },
     "metadata": {},
     "output_type": "display_data"
    },
    {
     "name": "stdout",
     "output_type": "stream",
     "text": [
      "Possible Years: [2017 2018 2019 2020]\n",
      "Possible Periods: ['AMP' 'MIDD' 'PMP' 'WE']\n",
      "Possible Variables: ['obs rel_unrel', 'Crashes', 'AVG_HOURLY_VAL', 'PCT-PRECIP-MINS']\n",
      "Creating Views:\n",
      "- Created: 2017, AMP, obs rel_unrel\n",
      "- Created: 2017, AMP, Crashes\n",
      "- Created: 2017, AMP, AVG_HOURLY_VAL\n",
      "- Created: 2017, AMP, PCT-PRECIP-MINS\n",
      "- Created: 2017, MIDD, obs rel_unrel\n",
      "- Created: 2017, MIDD, Crashes\n",
      "- Created: 2017, MIDD, AVG_HOURLY_VAL\n",
      "- Created: 2017, MIDD, PCT-PRECIP-MINS\n",
      "- Created: 2017, PMP, obs rel_unrel\n",
      "- Created: 2017, PMP, Crashes\n",
      "- Created: 2017, PMP, AVG_HOURLY_VAL\n",
      "- Created: 2017, PMP, PCT-PRECIP-MINS\n",
      "- Created: 2017, WE, obs rel_unrel\n",
      "- Created: 2017, WE, Crashes\n",
      "- Created: 2017, WE, AVG_HOURLY_VAL\n",
      "- Created: 2017, WE, PCT-PRECIP-MINS\n",
      "- Created: 2018, AMP, obs rel_unrel\n",
      "- Created: 2018, AMP, Crashes\n",
      "- Created: 2018, AMP, AVG_HOURLY_VAL\n",
      "- Created: 2018, AMP, PCT-PRECIP-MINS\n",
      "- Created: 2018, MIDD, obs rel_unrel\n",
      "- Created: 2018, MIDD, Crashes\n",
      "- Created: 2018, MIDD, AVG_HOURLY_VAL\n",
      "- Created: 2018, MIDD, PCT-PRECIP-MINS\n",
      "- Created: 2018, PMP, obs rel_unrel\n",
      "- Created: 2018, PMP, Crashes\n",
      "- Created: 2018, PMP, AVG_HOURLY_VAL\n",
      "- Created: 2018, PMP, PCT-PRECIP-MINS\n",
      "- Created: 2018, WE, obs rel_unrel\n",
      "- Created: 2018, WE, Crashes\n",
      "- Created: 2018, WE, AVG_HOURLY_VAL\n",
      "- Created: 2018, WE, PCT-PRECIP-MINS\n",
      "- Created: 2019, AMP, obs rel_unrel\n",
      "- Created: 2019, AMP, Crashes\n",
      "- Created: 2019, AMP, AVG_HOURLY_VAL\n",
      "- Created: 2019, AMP, PCT-PRECIP-MINS\n",
      "- Created: 2019, MIDD, obs rel_unrel\n",
      "- Created: 2019, MIDD, Crashes\n",
      "- Created: 2019, MIDD, AVG_HOURLY_VAL\n",
      "- Created: 2019, MIDD, PCT-PRECIP-MINS\n",
      "- Created: 2019, PMP, obs rel_unrel\n",
      "- Created: 2019, PMP, Crashes\n",
      "- Created: 2019, PMP, AVG_HOURLY_VAL\n",
      "- Created: 2019, PMP, PCT-PRECIP-MINS\n",
      "- Created: 2019, WE, obs rel_unrel\n",
      "- Created: 2019, WE, Crashes\n",
      "- Created: 2019, WE, AVG_HOURLY_VAL\n",
      "- Created: 2019, WE, PCT-PRECIP-MINS\n",
      "- Created: 2020, AMP, obs rel_unrel\n",
      "- Created: 2020, AMP, Crashes\n",
      "- Created: 2020, AMP, AVG_HOURLY_VAL\n",
      "- Created: 2020, AMP, PCT-PRECIP-MINS\n",
      "- Created: 2020, MIDD, obs rel_unrel\n",
      "- Created: 2020, MIDD, Crashes\n",
      "- Created: 2020, MIDD, AVG_HOURLY_VAL\n",
      "- Created: 2020, MIDD, PCT-PRECIP-MINS\n",
      "- Created: 2020, PMP, obs rel_unrel\n",
      "- Created: 2020, PMP, Crashes\n",
      "- Created: 2020, PMP, AVG_HOURLY_VAL\n",
      "- Created: 2020, PMP, PCT-PRECIP-MINS\n",
      "- Created: 2020, WE, obs rel_unrel\n",
      "- Created: 2020, WE, Crashes\n",
      "- Created: 2020, WE, AVG_HOURLY_VAL\n",
      "- Created: 2020, WE, PCT-PRECIP-MINS\n"
     ]
    }
   ],
   "source": [
    "# create mapper object\n",
    "mapper = Mapper()\n",
    "\n",
    "# pull data\n",
    "gdf = mapper.getGDF()\n",
    "\n",
    "# create the map views for selected variables\n",
    "mapper.createMapViews(gdf, ['obs rel_unrel', 'Crashes', 'AVG_HOURLY_VAL', 'PCT-PRECIP-MINS'])"
   ]
  },
  {
   "cell_type": "code",
   "execution_count": 4,
   "metadata": {},
   "outputs": [
    {
     "data": {
      "application/vnd.jupyter.widget-view+json": {
       "model_id": "c3009fbc405a42dca85b24f347a2323e",
       "version_major": 2,
       "version_minor": 0
      },
      "text/plain": [
       "interactive(children=(Dropdown(description='year', options=(2017, 2018, 2019, 2020), value=2017), Dropdown(des…"
      ]
     },
     "metadata": {},
     "output_type": "display_data"
    },
    {
     "name": "stdout",
     "output_type": "stream",
     "text": [
      "Wall time: 1 s\n"
     ]
    }
   ],
   "source": [
    "%%time\n",
    "mapper.viewMaps()"
   ]
  },
  {
   "cell_type": "code",
   "execution_count": 5,
   "metadata": {},
   "outputs": [
    {
     "data": {
      "text/markdown": [
       "### Adding Map Views"
      ],
      "text/plain": [
       "<IPython.core.display.Markdown object>"
      ]
     },
     "metadata": {},
     "output_type": "display_data"
    },
    {
     "name": "stdout",
     "output_type": "stream",
     "text": [
      "Additional Variables: ['ALL_WEATHER', 'TRUCK_PCT']\n",
      "Creating Views:\n",
      "- Created: 2017, AMP, ALL_WEATHER\n",
      "- Created: 2017, AMP, TRUCK_PCT\n",
      "- Created: 2017, MIDD, ALL_WEATHER\n",
      "- Created: 2017, MIDD, TRUCK_PCT\n",
      "- Created: 2017, PMP, ALL_WEATHER\n",
      "- Created: 2017, PMP, TRUCK_PCT\n",
      "- Created: 2017, WE, ALL_WEATHER\n",
      "- Created: 2017, WE, TRUCK_PCT\n",
      "- Created: 2018, AMP, ALL_WEATHER\n",
      "- Created: 2018, AMP, TRUCK_PCT\n",
      "- Created: 2018, MIDD, ALL_WEATHER\n",
      "- Created: 2018, MIDD, TRUCK_PCT\n",
      "- Created: 2018, PMP, ALL_WEATHER\n",
      "- Created: 2018, PMP, TRUCK_PCT\n",
      "- Created: 2018, WE, ALL_WEATHER\n",
      "- Created: 2018, WE, TRUCK_PCT\n",
      "- Created: 2019, AMP, ALL_WEATHER\n",
      "- Created: 2019, AMP, TRUCK_PCT\n",
      "- Created: 2019, MIDD, ALL_WEATHER\n",
      "- Created: 2019, MIDD, TRUCK_PCT\n",
      "- Created: 2019, PMP, ALL_WEATHER\n",
      "- Created: 2019, PMP, TRUCK_PCT\n",
      "- Created: 2019, WE, ALL_WEATHER\n",
      "- Created: 2019, WE, TRUCK_PCT\n",
      "- Created: 2020, AMP, ALL_WEATHER\n",
      "- Created: 2020, AMP, TRUCK_PCT\n",
      "- Created: 2020, MIDD, ALL_WEATHER\n",
      "- Created: 2020, MIDD, TRUCK_PCT\n",
      "- Created: 2020, PMP, ALL_WEATHER\n",
      "- Created: 2020, PMP, TRUCK_PCT\n",
      "- Created: 2020, WE, ALL_WEATHER\n",
      "- Created: 2020, WE, TRUCK_PCT\n",
      "Wall time: 31.1 s\n"
     ]
    }
   ],
   "source": [
    "%%time\n",
    "mapper.addMapViews(gdf, ['ALL_WEATHER', 'TRUCK_PCT'])"
   ]
  },
  {
   "cell_type": "code",
   "execution_count": 6,
   "metadata": {},
   "outputs": [
    {
     "data": {
      "application/vnd.jupyter.widget-view+json": {
       "model_id": "135d5b5ccc5f4e14b6827bef4e19d5a9",
       "version_major": 2,
       "version_minor": 0
      },
      "text/plain": [
       "interactive(children=(Dropdown(description='year', options=(2017, 2018, 2019, 2020), value=2017), Dropdown(des…"
      ]
     },
     "metadata": {},
     "output_type": "display_data"
    },
    {
     "name": "stdout",
     "output_type": "stream",
     "text": [
      "Wall time: 874 ms\n"
     ]
    }
   ],
   "source": [
    "%%time\n",
    "mapper.viewMaps()"
   ]
  },
  {
   "cell_type": "code",
   "execution_count": null,
   "metadata": {},
   "outputs": [],
   "source": []
  }
 ],
 "metadata": {
  "kernelspec": {
   "display_name": "Python 3 (ipykernel)",
   "language": "python",
   "name": "python3"
  },
  "language_info": {
   "codemirror_mode": {
    "name": "ipython",
    "version": 3
   },
   "file_extension": ".py",
   "mimetype": "text/x-python",
   "name": "python",
   "nbconvert_exporter": "python",
   "pygments_lexer": "ipython3",
   "version": "3.9.7"
  }
 },
 "nbformat": 4,
 "nbformat_minor": 4
}
